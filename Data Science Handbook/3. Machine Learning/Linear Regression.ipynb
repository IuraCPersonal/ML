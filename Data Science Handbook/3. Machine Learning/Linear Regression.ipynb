{
 "cells": [
  {
   "cell_type": "markdown",
   "id": "3af20d95-8bed-4830-bf85-baa2da724663",
   "metadata": {},
   "source": [
    "# In Depth: Linear Regression"
   ]
  },
  {
   "cell_type": "code",
   "execution_count": 1,
   "id": "c4edb08a-354f-4893-a041-709a8dad9dc7",
   "metadata": {},
   "outputs": [],
   "source": [
    "%matplotlib inline\n",
    "import matplotlib.pyplot as plt\n",
    "import seaborn as sns; sns.set()\n",
    "import numpy as np"
   ]
  },
  {
   "cell_type": "markdown",
   "id": "7e0c92dd-c84e-4afe-a6db-d2bb2f3b9649",
   "metadata": {},
   "source": [
    "## Simple Linear Regression"
   ]
  },
  {
   "cell_type": "markdown",
   "id": "8347e664-42b9-4467-8bc8-795908d416bb",
   "metadata": {},
   "source": [
    "A\n",
    "straight-line fit is a model of the form `y = ax + b` where a is commonly known as the\n",
    "slope, and b is commonly known as the intercept."
   ]
  },
  {
   "cell_type": "code",
   "execution_count": 2,
   "id": "f4d3eb9a-a547-4cc7-b561-1753ca8f3257",
   "metadata": {},
   "outputs": [
    {
     "data": {
      "text/plain": [
       "<matplotlib.collections.PathCollection at 0x1d83a373fa0>"
      ]
     },
     "execution_count": 2,
     "metadata": {},
     "output_type": "execute_result"
    },
    {
     "data": {
      "image/png": "[encoded data removed]",
      "text/plain": [
       "<Figure size 432x288 with 1 Axes>"
      ]
     },
     "metadata": {},
     "output_type": "display_data"
    }
   ],
   "source": [
    "# slope = 2 and intercept = -5\n",
    "rng = np.random.RandomState(1)\n",
    "x = 10 * rng.rand(50)\n",
    "y = 2 * x - 5 + rng.randn(50)\n",
    "plt.scatter(x, y)"
   ]
  },
  {
   "cell_type": "code",
   "execution_count": 3,
   "id": "5136068a-b21e-42f2-b7ed-f01a31ed757a",
   "metadata": {},
   "outputs": [],
   "source": [
    "from sklearn.linear_model import LinearRegression"
   ]
  },
  {
   "cell_type": "code",
   "execution_count": 4,
   "id": "8793ff45-d178-4065-bf88-3f21ab80eaaf",
   "metadata": {},
   "outputs": [],
   "source": [
    "model = LinearRegression(fit_intercept=True)"
   ]
  },
  {
   "cell_type": "code",
   "execution_count": 5,
   "id": "849050d3-0f85-473d-8ac9-7bd60b319df7",
   "metadata": {},
   "outputs": [
    {
     "data": {
      "text/plain": [
       "LinearRegression()"
      ]
     },
     "execution_count": 5,
     "metadata": {},
     "output_type": "execute_result"
    }
   ],
   "source": [
    "model.fit(x[:, np.newaxis], y)"
   ]
  },
  {
   "cell_type": "code",
   "execution_count": 6,
   "id": "4f596ce8-95fc-4d4e-a17b-8bc576cdb396",
   "metadata": {},
   "outputs": [],
   "source": [
    "xfit = np.linspace(0, 10, 1000)\n",
    "yfit = model.predict(xfit[:, np.newaxis])"
   ]
  },
  {
   "cell_type": "code",
   "execution_count": 7,
   "id": "0801b9b4-7fd1-47fd-9511-3052969c4dde",
   "metadata": {},
   "outputs": [
    {
     "data": {
      "text/plain": [
       "[<matplotlib.lines.Line2D at 0x1d83bbc08b0>]"
      ]
     },
     "execution_count": 7,
     "metadata": {},
     "output_type": "execute_result"
    },
    {
     "data": {
      "image/png": "[encoded data removed]",
      "text/plain": [
       "<Figure size 432x288 with 1 Axes>"
      ]
     },
     "metadata": {},
     "output_type": "display_data"
    }
   ],
   "source": [
    "plt.scatter(x, y)\n",
    "plt.plot(xfit, yfit, 'red')"
   ]
  },
  {
   "cell_type": "code",
   "execution_count": 8,
   "id": "c539a2e3-42ea-4ee1-8805-1f10eb2d71af",
   "metadata": {},
   "outputs": [
    {
     "name": "stdout",
     "output_type": "stream",
     "text": [
      "[2.02720881]\n"
     ]
    }
   ],
   "source": [
    "print(model.coef_)"
   ]
  },
  {
   "cell_type": "code",
   "execution_count": 9,
   "id": "6e97462a-838a-4b97-8fc8-d67a1d398949",
   "metadata": {},
   "outputs": [
    {
     "name": "stdout",
     "output_type": "stream",
     "text": [
      "-4.9985770855532\n"
     ]
    }
   ],
   "source": [
    "print(model.intercept_)"
   ]
  },
  {
   "cell_type": "markdown",
   "id": "3a726d49-34c4-4011-a28d-2d65238f3625",
   "metadata": {},
   "source": [
    "### Polynomial basis functions"
   ]
  },
  {
   "cell_type": "code",
   "execution_count": 10,
   "id": "ba5f5401-58d1-46c1-bb7d-2a037b607280",
   "metadata": {},
   "outputs": [],
   "source": [
    "from sklearn.preprocessing import PolynomialFeatures"
   ]
  },
  {
   "cell_type": "code",
   "execution_count": 11,
   "id": "38dd5691-c996-42c9-bb15-08fb174ab323",
   "metadata": {},
   "outputs": [
    {
     "data": {
      "text/plain": [
       "array([[ 2.,  4.,  8.],\n",
       "       [ 3.,  9., 27.],\n",
       "       [ 4., 16., 64.]])"
      ]
     },
     "execution_count": 11,
     "metadata": {},
     "output_type": "execute_result"
    }
   ],
   "source": [
    "x = np.array([2, 3, 4])\n",
    "poly = PolynomialFeatures(3, include_bias=False)\n",
    "poly.fit_transform(x[:, None])"
   ]
  },
  {
   "cell_type": "code",
   "execution_count": 12,
   "id": "ca2a6252-57ae-402c-807c-7fba3bbedd6d",
   "metadata": {},
   "outputs": [],
   "source": [
    "from sklearn.pipeline import make_pipeline"
   ]
  },
  {
   "cell_type": "code",
   "execution_count": 13,
   "id": "c51dbe58-5059-4f7e-809d-6a46942e876c",
   "metadata": {},
   "outputs": [],
   "source": [
    "poly_model = make_pipeline(PolynomialFeatures(7), LinearRegression())"
   ]
  },
  {
   "cell_type": "code",
   "execution_count": 14,
   "id": "a43932b6-37f6-4942-9ea8-31acbfb367e4",
   "metadata": {},
   "outputs": [],
   "source": [
    "rng = np.random.RandomState(1)\n",
    "x = 10 * rng.rand(50)\n",
    "y = np.sin(x) + 0.1 * rng.randn(50)"
   ]
  },
  {
   "cell_type": "code",
   "execution_count": 15,
   "id": "cd6ae0ea-2edd-4b79-bc12-f56fef2367e1",
   "metadata": {},
   "outputs": [],
   "source": [
    "poly_model.fit(x[:, np.newaxis], y)\n",
    "yfit = poly_model.predict(xfit[:, np.newaxis])"
   ]
  },
  {
   "cell_type": "code",
   "execution_count": 17,
   "id": "cbfc4177-5036-4e91-a385-c45423d9e8bd",
   "metadata": {},
   "outputs": [
    {
     "data": {
      "text/plain": [
       "[<matplotlib.lines.Line2D at 0x1d83d360eb0>]"
      ]
     },
     "execution_count": 17,
     "metadata": {},
     "output_type": "execute_result"
    },
    {
     "data": {
      "image/png": "[encoded data removed]",
      "text/plain": [
       "<Figure size 432x288 with 1 Axes>"
      ]
     },
     "metadata": {},
     "output_type": "display_data"
    }
   ],
   "source": [
    "plt.scatter(x, y)\n",
    "plt.plot(xfit, yfit, 'red')"
   ]
  },
  {
   "cell_type": "markdown",
   "id": "d7638cd7-1082-4591-92eb-cc65b1f95d54",
   "metadata": {},
   "source": [
    "### Ridge regression (L2 regularization)"
   ]
  },
  {
   "cell_type": "markdown",
   "id": "e66be7eb-1e48-4c62-9a54-d2628bf2e29b",
   "metadata": {},
   "source": [
    "This proceeds by penal‐\n",
    "izing the sum of squares (2-norms) of the model coefficients; in this case, the penalty\n",
    "on the model fit would be:\n"
   ]
  },
  {
   "cell_type": "markdown",
   "id": "778da5d2-1a25-4d5f-9e93-a84e6e5ae112",
   "metadata": {},
   "source": [
    "$$\n",
    "    P = \\alpha \\sum_{n=1}^N \\omega_n^2\n",
    "$$"
   ]
  },
  {
   "cell_type": "markdown",
   "id": "a9936228-725e-43d1-8d50-69e32985b4f7",
   "metadata": {},
   "source": [
    "where α is a free parameter that controls the strength of the penalty. This type of\n",
    "penalized model is built into Scikit-Learn with the Ridge estimator"
   ]
  },
  {
   "cell_type": "code",
   "execution_count": 18,
   "id": "2ee0a584-5c5c-4ded-97dd-0a4cd3463d75",
   "metadata": {},
   "outputs": [],
   "source": [
    "from sklearn.linear_model import Ridge"
   ]
  },
  {
   "cell_type": "markdown",
   "id": "a1d3ea6b-d6aa-42a6-8aa5-023527e4f3db",
   "metadata": {},
   "source": [
    "### Lasso regularization (L1)"
   ]
  },
  {
   "cell_type": "markdown",
   "id": "fca09eed-d7d6-413a-a332-be3a3cb4328e",
   "metadata": {},
   "source": [
    "Another very common type of regularization is known as lasso, and involves penaliz‐\n",
    "ing the sum of absolute values (1-norms) of regression coefficients:\n",
    "\n",
    "$$\n",
    "    P = \\alpha \\sum_{n=1}^N|\\omega_n|\n",
    "$$"
   ]
  },
  {
   "cell_type": "markdown",
   "id": "2548975b-fb9b-4b48-93d6-7e366d2f3342",
   "metadata": {},
   "source": [
    "Though this is conceptually very similar to ridge regression, the results can differ sur‐\n",
    "prisingly: for example, due to geometric reasons lasso regression tends to favor sparse\n",
    "models where possible; that is, it preferentially sets model coefficients to exactly zero."
   ]
  }
 ],
 "metadata": {
  "kernelspec": {
   "display_name": "Python 3",
   "language": "python",
   "name": "python3"
  },
  "language_info": {
   "codemirror_mode": {
    "name": "ipython",
    "version": 3
   },
   "file_extension": ".py",
   "mimetype": "text/x-python",
   "name": "python",
   "nbconvert_exporter": "python",
   "pygments_lexer": "ipython3",
   "version": "3.9.5"
  }
 },
 "nbformat": 4,
 "nbformat_minor": 5
}
